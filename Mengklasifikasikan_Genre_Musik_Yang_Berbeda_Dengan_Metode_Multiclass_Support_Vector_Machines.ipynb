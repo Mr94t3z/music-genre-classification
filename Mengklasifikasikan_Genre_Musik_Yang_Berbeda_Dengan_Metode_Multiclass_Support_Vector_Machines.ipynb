{
  "nbformat": 4,
  "nbformat_minor": 0,
  "metadata": {
    "colab": {
      "name": "Mengklasifikasikan Genre Musik Yang Berbeda Dengan Metode Multiclass Support Vector Machines.ipynb",
      "provenance": [],
      "collapsed_sections": [],
      "authorship_tag": "ABX9TyMKSKlRZE7GEIvAZYUePRxt",
      "include_colab_link": true
    },
    "kernelspec": {
      "name": "python3",
      "display_name": "Python 3"
    },
    "language_info": {
      "name": "python"
    }
  },
  "cells": [
    {
      "cell_type": "markdown",
      "metadata": {
        "id": "view-in-github",
        "colab_type": "text"
      },
      "source": [
        "<a href=\"https://colab.research.google.com/github/Mr94t3z/music-genre-classification/blob/main/Mengklasifikasikan_Genre_Musik_Yang_Berbeda_Dengan_Metode_Multiclass_Support_Vector_Machines.ipynb\" target=\"_parent\"><img src=\"https://colab.research.google.com/assets/colab-badge.svg\" alt=\"Open In Colab\"/></a>"
      ]
    },
    {
      "cell_type": "markdown",
      "source": [
        "<center> <b> \"Mengklasifikasikan Genre Musik yang berbeda dengan Metode Multiclass Support Vector Machines, K-Means Clustering, K-Nearest Neighbors (KNN) dan Convolutional Neural Network (CNN)\" </b> </center>\n",
        "\n"
      ],
      "metadata": {
        "id": "13Qg8OpriFs2"
      }
    },
    {
      "cell_type": "markdown",
      "source": [
        "<br>\n",
        "<b>\n",
        "<table align = \"left\">\n",
        "  <tr>\n",
        "    <td>Nama</td>\n",
        "    <td>: Muhamad Taopik</td>\n",
        "  </tr>\n",
        "  <tr>\n",
        "    <td>NIM</td>\n",
        "    <td>: 1197050081</td>\n",
        "  </tr>\n",
        "  <tr>\n",
        "    <td>Kelas</td>\n",
        "    <td>: IF C</td>\n",
        "  </tr>\n",
        "</table>\n",
        "</br>"
      ],
      "metadata": {
        "id": "MjNPnxk_m-_J"
      }
    },
    {
      "cell_type": "markdown",
      "source": [
        "\n",
        "\n",
        "---\n",
        "\n",
        "\n",
        "# **1. Install Library**\n",
        "\n",
        "Berikut ini list library yang dibutuhkan.\n",
        "\n",
        "\n",
        "---\n",
        "\n"
      ],
      "metadata": {
        "id": "w6Y-kTB2YmSV"
      }
    },
    {
      "cell_type": "code",
      "source": [
        "# Install library 'python_speech_features' terlebih dahulu\n",
        "!pip install pip install python_speech_features"
      ],
      "metadata": {
        "colab": {
          "base_uri": "https://localhost:8080/"
        },
        "id": "VJNp0FkUQPiN",
        "outputId": "6f69c4b7-70fc-435c-d5bb-f708add908a6"
      },
      "execution_count": null,
      "outputs": [
        {
          "output_type": "stream",
          "name": "stdout",
          "text": [
            "Requirement already satisfied: pip in /usr/local/lib/python3.7/dist-packages (21.1.3)\n",
            "Requirement already satisfied: install in /usr/local/lib/python3.7/dist-packages (1.3.5)\n",
            "Requirement already satisfied: python_speech_features in /usr/local/lib/python3.7/dist-packages (0.6)\n"
          ]
        }
      ]
    },
    {
      "cell_type": "code",
      "execution_count": null,
      "metadata": {
        "id": "V5JXpK1ePmr5"
      },
      "outputs": [],
      "source": [
        "# Library yang digunakan\n",
        "from python_speech_features import mfcc\n",
        "import scipy.io.wavfile as wav\n",
        "import numpy as np\n",
        "\n",
        "from tempfile import TemporaryFile\n",
        "import os\n",
        "import pickle\n",
        "import random \n",
        "import operator\n",
        "\n",
        "import math\n",
        "import numpy as np"
      ]
    },
    {
      "cell_type": "code",
      "source": [
        "# Tentukan fungsi untuk mendapatkan jarak antara feature vectors dan cari neighbors:\n",
        "def getNeighbors(trainingSet, instance, k):\n",
        "    distances = []\n",
        "    for x in range (len(trainingSet)):\n",
        "        dist = distance(trainingSet[x], instance, k )+ distance(instance, trainingSet[x], k)\n",
        "        distances.append((trainingSet[x][2], dist))\n",
        "    distances.sort(key=operator.itemgetter(1))\n",
        "    neighbors = []\n",
        "    for x in range(k):\n",
        "        neighbors.append(distances[x][0])\n",
        "    return neighbors"
      ],
      "metadata": {
        "id": "eRcKtzUbQtoj"
      },
      "execution_count": null,
      "outputs": []
    },
    {
      "cell_type": "code",
      "source": [
        "# Identifikasi neightbors terdekat:\n",
        "def nearestClass(neighbors):\n",
        "    classVote = {}\n",
        "\n",
        "    for x in range(len(neighbors)):\n",
        "        response = neighbors[x]\n",
        "        if response in classVote:\n",
        "            classVote[response]+=1 \n",
        "        else:\n",
        "            classVote[response]=1\n",
        "\n",
        "    sorter = sorted(classVote.items(), key = operator.itemgetter(1), reverse=True)\n",
        "    return sorter[0][0]"
      ],
      "metadata": {
        "id": "rQG2wSG-RXuG"
      },
      "execution_count": null,
      "outputs": []
    },
    {
      "cell_type": "code",
      "source": [
        "# Tentukan fungsi untuk evaluasi model:\n",
        "def getAccuracy(testSet, predictions):\n",
        "    correct = 0 \n",
        "    for x in range (len(testSet)):\n",
        "        if testSet[x][-1]==predictions[x]:\n",
        "            correct+=1\n",
        "    return 1.0*correct/len(testSet)"
      ],
      "metadata": {
        "id": "7pvWw8-vRpNO"
      },
      "execution_count": null,
      "outputs": []
    },
    {
      "cell_type": "markdown",
      "source": [
        "\n",
        "\n",
        "---\n",
        "\n",
        "\n",
        "# **2. Dataset GTZAN Genre Collection**\n",
        "Dataset nya bisa di download melalui [link](http://marsyas.info/downloads/datasets.html) ini.\n",
        "\n",
        "**Catatan**: _Jika ingin menjalankan program ini harus mengunduh terlebih dahulu dataset file genre keseluruhan tersebut melalui link diatas serta konfigurasi file folder pada Google Drive._\n",
        "\n",
        "---"
      ],
      "metadata": {
        "id": "BX06WaTZDtKW"
      }
    },
    {
      "cell_type": "code",
      "source": [
        "# Konfigurasi direktori file Dataset Genre Musik yang diambil dari Google Drive saya\n",
        "from google.colab import drive\n",
        "drive.mount('/content/drive/')"
      ],
      "metadata": {
        "id": "hZGdEWo-SxSN",
        "colab": {
          "base_uri": "https://localhost:8080/"
        },
        "outputId": "2bddd502-9eb9-4bf7-e8b1-7a72a175e273"
      },
      "execution_count": null,
      "outputs": [
        {
          "output_type": "stream",
          "name": "stdout",
          "text": [
            "Mounted at /content/drive/\n"
          ]
        }
      ]
    },
    {
      "cell_type": "code",
      "source": [
        "# Ekstrak fitur dari kumpulan data dan buang fitur ini ke dalam file .dat biner “my.dat”:\n",
        "directory = \"/content/drive/MyDrive/Colab Notebooks/dataset/genres/\"\n",
        "f= open(\"my.dat\" ,'wb')\n",
        "i=0\n",
        "\n",
        "for folder in os.listdir(directory):\n",
        "    i+=1\n",
        "    if i==11 :\n",
        "        break   \n",
        "    for file in os.listdir(directory+folder):\n",
        "      try:\n",
        "        (rate,sig) = wav.read(directory+folder+\"/\"+file)\n",
        "        mfcc_feat = mfcc(sig,rate ,winlen=0.020, appendEnergy = False)\n",
        "        covariance = np.cov(np.matrix.transpose(mfcc_feat))\n",
        "        mean_matrix = mfcc_feat.mean(0)\n",
        "        feature = (mean_matrix , covariance , i)\n",
        "        pickle.dump(feature , f)\n",
        "      except Exception as e:\n",
        "        print('Got an exception: ', e, ' in folder: ', folder, ' filename: ', file)\n",
        "f.close()"
      ],
      "metadata": {
        "id": "lW_hY5JiR5eD"
      },
      "execution_count": null,
      "outputs": []
    },
    {
      "cell_type": "code",
      "source": [
        "# Latih dan uji pemisahan pada dataset:\n",
        "dataset = []\n",
        "def loadDataset(filename , split , trSet , teSet):\n",
        "    with open(\"my.dat\" , 'rb') as f:\n",
        "        while True:\n",
        "            try:\n",
        "                dataset.append(pickle.load(f))\n",
        "            except EOFError:\n",
        "                f.close()\n",
        "                break  \n",
        "\n",
        "    for x in range(len(dataset)):\n",
        "        if random.random() <split :      \n",
        "            trSet.append(dataset[x])\n",
        "        else:\n",
        "            teSet.append(dataset[x])  \n",
        "\n",
        "trainingSet = []\n",
        "testSet = []\n",
        "loadDataset(\"my.dat\" , 0.66, trainingSet, testSet)"
      ],
      "metadata": {
        "id": "CUtX_qQJds07"
      },
      "execution_count": null,
      "outputs": []
    },
    {
      "cell_type": "markdown",
      "source": [
        "\n",
        "\n",
        "---\n",
        "\n",
        "\n",
        "# **3. Prediksi menggunakan K-Nearest Neighbors (KNN)**\n",
        "Buat prediksi menggunakan K-Nearest Neighbors (KNN) dan dapatkan akurasi pada data uji.\n",
        "\n",
        "---\n",
        "\n"
      ],
      "metadata": {
        "id": "PpPdO_JTG8Zf"
      }
    },
    {
      "cell_type": "code",
      "source": [
        "# Fungsi distance\n",
        "def distance(instance1 , instance2 , k ):\n",
        "    distance =0 \n",
        "    mm1 = instance1[0] \n",
        "    cm1 = instance1[1]\n",
        "    mm2 = instance2[0]\n",
        "    cm2 = instance2[1]\n",
        "    distance = np.trace(np.dot(np.linalg.inv(cm2), cm1)) \n",
        "    distance+=(np.dot(np.dot((mm2-mm1).transpose() , np.linalg.inv(cm2)) , mm2-mm1 )) \n",
        "    distance+= np.log(np.linalg.det(cm2)) - np.log(np.linalg.det(cm1))\n",
        "    distance-= k\n",
        "    return distance"
      ],
      "metadata": {
        "id": "nDX0ndoKpGOk"
      },
      "execution_count": null,
      "outputs": []
    },
    {
      "cell_type": "code",
      "source": [
        "# Akurasi pada yang didapat data uji:\n",
        "leng = len(testSet)\n",
        "predictions = []\n",
        "for x in range (leng):\n",
        "    predictions.append(nearestClass(getNeighbors(trainingSet ,testSet[x] , 5))) \n",
        "\n",
        "accuracy1 = getAccuracy(testSet , predictions)\n",
        "print(\"Akurasi:\", \"\\033[1m\", accuracy1, \"\\033[0m\")"
      ],
      "metadata": {
        "colab": {
          "base_uri": "https://localhost:8080/"
        },
        "id": "XTkXa7wznIEh",
        "outputId": "d46e2f08-4ee6-4fec-8559-ee643c98eb5d"
      },
      "execution_count": null,
      "outputs": [
        {
          "output_type": "stream",
          "name": "stdout",
          "text": [
            "Akurasi: \u001b[1m 0.6804733727810651 \u001b[0m\n"
          ]
        }
      ]
    },
    {
      "cell_type": "markdown",
      "source": [
        "\n",
        "\n",
        "---\n",
        "\n",
        "\n",
        "\n",
        "# **4. Uji Pengklasifikasian dengan file Audio yang ada pada Google Drive**\n",
        "Untuk uji coba audio bisa mengunduh-nya dari [sini](https://uweb.engr.arizona.edu/~429rns/audiofiles/audiofiles.html).\n",
        "\n",
        "\n",
        "---\n",
        "\n",
        "\n"
      ],
      "metadata": {
        "id": "v8_NXRFZqEXw"
      }
    },
    {
      "cell_type": "code",
      "source": [
        "# Uji coba audio pada lokasi folder Google Drive saya\n",
        "lokasi_folder = \"/content/drive/MyDrive/Colab Notebooks/dataset/audio-test/\"\n",
        "test_file = lokasi_folder + \"test.wav\""
      ],
      "metadata": {
        "id": "OcRTBVAQp6_S"
      },
      "execution_count": null,
      "outputs": []
    },
    {
      "cell_type": "code",
      "source": [
        "(rate, sig) = wav.read(test_file)\n",
        "mfcc_feat = mfcc(sig, rate, winlen=0.020, appendEnergy=False)\n",
        "covariance = np.cov(np.matrix.transpose(mfcc_feat))\n",
        "mean_matrix = mfcc_feat.mean(0)\n",
        "feature = (mean_matrix, covariance, i)"
      ],
      "metadata": {
        "colab": {
          "base_uri": "https://localhost:8080/"
        },
        "id": "YuiSENayr5m7",
        "outputId": "7ad0774d-19a9-4630-8aa6-9a919fd4b38b"
      },
      "execution_count": null,
      "outputs": [
        {
          "output_type": "stream",
          "name": "stderr",
          "text": [
            "WARNING:root:frame length (882) is greater than FFT size (512), frame will be truncated. Increase NFFT to avoid.\n"
          ]
        }
      ]
    },
    {
      "cell_type": "code",
      "source": [
        "# Lokasi default pada drive saya\n",
        "from collections import defaultdict\n",
        "results = defaultdict(int)\n",
        "\n",
        "directory = \"/content/drive/MyDrive/Colab Notebooks/dataset/genres/\"\n",
        "\n",
        "i = 1\n",
        "for folder in os.listdir(directory):\n",
        "    results[i] = folder\n",
        "    i += 1"
      ],
      "metadata": {
        "id": "-mSuphN3r64F"
      },
      "execution_count": null,
      "outputs": []
    },
    {
      "cell_type": "code",
      "source": [
        "# Hasil prediksi genre musik\n",
        "pred = nearestClass(getNeighbors(dataset, feature, 5))\n",
        "print(\"Musik tersebut termasuk jenis genre:\", \"\\033[1m\" + results[pred] + \"\\033[0m\" + \".\")"
      ],
      "metadata": {
        "colab": {
          "base_uri": "https://localhost:8080/"
        },
        "id": "E3bW4mpmsOw1",
        "outputId": "3c5663df-bed1-4bcd-d4f0-715555e7e755"
      },
      "execution_count": null,
      "outputs": [
        {
          "output_type": "stream",
          "name": "stdout",
          "text": [
            "Musik tersebut termasuk jenis genre: \u001b[1mclassical\u001b[0m.\n"
          ]
        }
      ]
    },
    {
      "cell_type": "markdown",
      "source": [
        "\n",
        "\n",
        "---\n",
        "\n",
        "\n",
        "<center> <b> <h1> SELESAI! </1> </b> </center>\n",
        "\n",
        "\n",
        "---\n",
        "\n"
      ],
      "metadata": {
        "id": "09tPpfVvuobR"
      }
    }
  ]
}